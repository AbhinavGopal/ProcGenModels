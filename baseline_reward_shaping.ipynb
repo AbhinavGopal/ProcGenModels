{
 "cells": [
  {
   "cell_type": "code",
   "execution_count": null,
   "metadata": {
    "colab": {
     "base_uri": "https://localhost:8080/"
    },
    "executionInfo": {
     "elapsed": 10868,
     "status": "ok",
     "timestamp": 1620771783624,
     "user": {
      "displayName": "Abhinav Gopal",
      "photoUrl": "",
      "userId": "04148116354164817652"
     },
     "user_tz": 420
    },
    "id": "qxZGIk5FLAul",
    "outputId": "5325537a-0747-48b0-ec3a-c4b16be73126"
   },
   "outputs": [],
   "source": [
    "!git clone https://github.com/AbhinavGopal/ProcGenModels.git"
   ]
  },
  {
   "cell_type": "code",
   "execution_count": null,
   "metadata": {
    "colab": {
     "base_uri": "https://localhost:8080/"
    },
    "executionInfo": {
     "elapsed": 103551,
     "status": "ok",
     "timestamp": 1620771887190,
     "user": {
      "displayName": "Abhinav Gopal",
      "photoUrl": "",
      "userId": "04148116354164817652"
     },
     "user_tz": 420
    },
    "id": "XeZ5hSPk2sk3",
    "outputId": "9e555ecf-9d13-48a2-ccae-53cd4377f89d"
   },
   "outputs": [],
   "source": [
    "# try to run the bare minimum to get a new conda env working\n",
    "conda_path = ''\n",
    "try:\n",
    "    conda_path = !which conda\n",
    "finally:\n",
    "    print('')\n",
    "\n",
    "if (len(conda_path) == 0):\n",
    "    print('installing miniconda')\n",
    "    !wget https://repo.continuum.io/miniconda/Miniconda3-4.5.4-Linux-x86_64.sh && bash Miniconda3-4.5.4-Linux-x86_64.sh -bfp /usr/local\n",
    "    !conda update conda -y -q\n",
    "    !source /usr/local/etc/profile.d/conda.sh\n",
    "    !conda init \n",
    "    !conda install -n root _license -y -q\n",
    "else:\n",
    "    print('found miniconda')"
   ]
  },
  {
   "cell_type": "code",
   "execution_count": null,
   "metadata": {
    "colab": {
     "base_uri": "https://localhost:8080/"
    },
    "executionInfo": {
     "elapsed": 208608,
     "status": "ok",
     "timestamp": 1620771992257,
     "user": {
      "displayName": "Abhinav Gopal",
      "photoUrl": "",
      "userId": "04148116354164817652"
     },
     "user_tz": 420
    },
    "id": "snPpUk5mLFHE",
    "outputId": "7068d312-a8ba-42d3-cf6a-ba8f57493fd7"
   },
   "outputs": [],
   "source": [
    "!conda env update --name base --file ProcGenModels/train-procgen/environment.yml"
   ]
  },
  {
   "cell_type": "code",
   "execution_count": null,
   "metadata": {
    "colab": {
     "base_uri": "https://localhost:8080/"
    },
    "executionInfo": {
     "elapsed": 216890,
     "status": "ok",
     "timestamp": 1620772001300,
     "user": {
      "displayName": "Abhinav Gopal",
      "photoUrl": "",
      "userId": "04148116354164817652"
     },
     "user_tz": 420
    },
    "id": "9O2U6yZXLJ0A",
    "outputId": "90d8fc88-02f8-4543-ffb2-84ab82d60582"
   },
   "outputs": [],
   "source": [
    "%%bash\n",
    "source activate base\n",
    "conda env list\n",
    "pip install ProcGenModels/baselines/\n",
    "pip install ProcGenModels/train-procgen"
   ]
  },
  {
   "cell_type": "code",
   "execution_count": null,
   "metadata": {
    "colab": {
     "base_uri": "https://localhost:8080/"
    },
    "id": "gp0_ia5wsmkL",
    "outputId": "9cf87382-774c-430a-d5bc-5f9ce6c9bdba"
   },
   "outputs": [],
   "source": [
    "# uncomment the conv_dim argument in order to get a larger convolution dimesnion.\n",
    "# uncomment the reward = 1 argument in order to use the additional wall-based reward\n",
    "# uncomment optimizer with rmsprop to use rmsprop. Default is adam.\n",
    "\n",
    "!python -m train_procgen.train --env_name fruitbot --num_levels 500 --distribution_mode easy \\\n",
    "--log_dir \"/content/drive/MyDrive/TrainedModels/baseline-500\"\n",
    "# --conv_dim 32 32 64 --reward 1\n",
    "# --load_path \"/content/drive/MyDrive/Colab Notebooks/ProcGenModel/baseline-reward-shaping/checkpoints/02350\" \\\n",
    "# --optimizer [rmsprop or adam]"
   ]
  },
  {
   "cell_type": "code",
   "execution_count": null,
   "metadata": {
    "id": "0Q100maztAc7"
   },
   "outputs": [],
   "source": [
    "!rm -rf ProcGenModels"
   ]
  },
  {
   "cell_type": "code",
   "execution_count": null,
   "metadata": {},
   "outputs": [],
   "source": []
  }
 ],
 "metadata": {
  "accelerator": "GPU",
  "colab": {
   "collapsed_sections": [],
   "name": "baseline_reward_shaping.ipynb",
   "provenance": []
  },
  "kernelspec": {
   "display_name": "Python 3",
   "language": "python",
   "name": "python3"
  },
  "language_info": {
   "codemirror_mode": {
    "name": "ipython",
    "version": 3
   },
   "file_extension": ".py",
   "mimetype": "text/x-python",
   "name": "python",
   "nbconvert_exporter": "python",
   "pygments_lexer": "ipython3",
   "version": "3.7.4"
  }
 },
 "nbformat": 4,
 "nbformat_minor": 1
}
